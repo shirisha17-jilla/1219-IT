{
 "cells": [
  {
   "cell_type": "markdown",
   "metadata": {},
   "source": [
    "1.define a series with even values from 100 to 200 in descending order\n",
    "2.assign index to this series starting from 100 "
   ]
  },
  {
   "cell_type": "code",
   "execution_count": 13,
   "metadata": {},
   "outputs": [],
   "source": [
    "import pandas as pd\n",
    "import numpy as np"
   ]
  },
  {
   "cell_type": "code",
   "execution_count": 14,
   "metadata": {},
   "outputs": [
    {
     "data": {
      "text/plain": [
       "150    200\n",
       "149    198\n",
       "148    196\n",
       "147    194\n",
       "146    192\n",
       "145    190\n",
       "144    188\n",
       "143    186\n",
       "142    184\n",
       "141    182\n",
       "140    180\n",
       "139    178\n",
       "138    176\n",
       "137    174\n",
       "136    172\n",
       "135    170\n",
       "134    168\n",
       "133    166\n",
       "132    164\n",
       "131    162\n",
       "130    160\n",
       "129    158\n",
       "128    156\n",
       "127    154\n",
       "126    152\n",
       "125    150\n",
       "124    148\n",
       "123    146\n",
       "122    144\n",
       "121    142\n",
       "120    140\n",
       "119    138\n",
       "118    136\n",
       "117    134\n",
       "116    132\n",
       "115    130\n",
       "114    128\n",
       "113    126\n",
       "112    124\n",
       "111    122\n",
       "110    120\n",
       "109    118\n",
       "108    116\n",
       "107    114\n",
       "106    112\n",
       "105    110\n",
       "104    108\n",
       "103    106\n",
       "102    104\n",
       "101    102\n",
       "100    100\n",
       "dtype: int64"
      ]
     },
     "execution_count": 14,
     "metadata": {},
     "output_type": "execute_result"
    }
   ],
   "source": [
    "s1 = pd.Series([i for i in range(100, 201) if i % 2 == 0])\n",
    "s1.index = [i for i in range(100, 151)]\n",
    "s1.sort_values(ascending = False)"
   ]
  },
  {
   "cell_type": "markdown",
   "metadata": {},
   "source": [
    "3.create a dataframe of random values of shape 8*6 . Assign index as numerical values and column names from a to f and using loc and iloc print values of rows 3,4 and columns b and e "
   ]
  },
  {
   "cell_type": "code",
   "execution_count": 26,
   "metadata": {},
   "outputs": [
    {
     "data": {
      "text/html": [
       "<div>\n",
       "<style scoped>\n",
       "    .dataframe tbody tr th:only-of-type {\n",
       "        vertical-align: middle;\n",
       "    }\n",
       "\n",
       "    .dataframe tbody tr th {\n",
       "        vertical-align: top;\n",
       "    }\n",
       "\n",
       "    .dataframe thead th {\n",
       "        text-align: right;\n",
       "    }\n",
       "</style>\n",
       "<table border=\"1\" class=\"dataframe\">\n",
       "  <thead>\n",
       "    <tr style=\"text-align: right;\">\n",
       "      <th></th>\n",
       "      <th>B</th>\n",
       "      <th>C</th>\n",
       "      <th>D</th>\n",
       "      <th>E</th>\n",
       "    </tr>\n",
       "  </thead>\n",
       "  <tbody>\n",
       "    <tr>\n",
       "      <td>3</td>\n",
       "      <td>66</td>\n",
       "      <td>43</td>\n",
       "      <td>5</td>\n",
       "      <td>3</td>\n",
       "    </tr>\n",
       "    <tr>\n",
       "      <td>4</td>\n",
       "      <td>81</td>\n",
       "      <td>63</td>\n",
       "      <td>25</td>\n",
       "      <td>39</td>\n",
       "    </tr>\n",
       "  </tbody>\n",
       "</table>\n",
       "</div>"
      ],
      "text/plain": [
       "    B   C   D   E\n",
       "3  66  43   5   3\n",
       "4  81  63  25  39"
      ]
     },
     "execution_count": 26,
     "metadata": {},
     "output_type": "execute_result"
    }
   ],
   "source": [
    "df = pd.DataFrame(np.random.randint(0,100,size=(8, 6)), columns=list('ABCDEF'))\n",
    "df.iloc[3:5, 1:5]"
   ]
  },
  {
   "cell_type": "markdown",
   "metadata": {},
   "source": [
    "create a multi-index dataframe and 1st index is [\"cse\",\"IT\"] and second index is 1 to 6 numbers. use 2 columns A,B and assign random values to it "
   ]
  },
  {
   "cell_type": "code",
   "execution_count": 51,
   "metadata": {},
   "outputs": [
    {
     "data": {
      "text/plain": [
       "A    B\n",
       "CSE  1   -0.456009\n",
       "     2   -0.504115\n",
       "     3    0.040528\n",
       "     4    0.824762\n",
       "     5    0.010045\n",
       "     6    0.437890\n",
       "IT   1    1.337614\n",
       "     2   -0.042814\n",
       "     3   -0.213906\n",
       "     4   -0.230296\n",
       "     5   -0.274837\n",
       "     6   -0.279672\n",
       "dtype: float64"
      ]
     },
     "execution_count": 51,
     "metadata": {},
     "output_type": "execute_result"
    }
   ],
   "source": [
    "arr = [np.array([\"CSE\",\"CSE\",\"CSE\",\"CSE\", \"CSE\", \"CSE\",\"IT\",\"IT\",\"IT\",\"IT\",\"IT\",\"IT\"]),\n",
    "                  np.array([1, 2, 3, 4, 5, 6, 1, 2 , 3, 4, 5, 6])]\n",
    "tuples = list(zip(*arr))\n",
    "tuples\n",
    "index = pd.MultiIndex.from_tuples(tuples, names=[\"A\", \"B\"] )\n",
    "index\n",
    "s = pd.Series(np.random.randn(12), index=index)\n",
    "s"
   ]
  },
  {
   "cell_type": "markdown",
   "metadata": {},
   "source": [
    "print the row value of number 4 from cse "
   ]
  },
  {
   "cell_type": "code",
   "execution_count": 53,
   "metadata": {},
   "outputs": [
    {
     "data": {
      "text/plain": [
       "0.824761658645627"
      ]
     },
     "execution_count": 53,
     "metadata": {},
     "output_type": "execute_result"
    }
   ],
   "source": [
    "s[\"CSE\"][4]"
   ]
  },
  {
   "cell_type": "markdown",
   "metadata": {},
   "source": [
    "print the row value of 3,5 from IT"
   ]
  },
  {
   "cell_type": "code",
   "execution_count": 56,
   "metadata": {},
   "outputs": [
    {
     "data": {
      "text/plain": [
       "B\n",
       "3   -0.213906\n",
       "4   -0.230296\n",
       "5   -0.274837\n",
       "dtype: float64"
      ]
     },
     "execution_count": 56,
     "metadata": {},
     "output_type": "execute_result"
    }
   ],
   "source": [
    "s[\"IT\"][2:5]"
   ]
  }
 ],
 "metadata": {
  "kernelspec": {
   "display_name": "Python 3",
   "language": "python",
   "name": "python3"
  },
  "language_info": {
   "codemirror_mode": {
    "name": "ipython",
    "version": 3
   },
   "file_extension": ".py",
   "mimetype": "text/x-python",
   "name": "python",
   "nbconvert_exporter": "python",
   "pygments_lexer": "ipython3",
   "version": "3.7.4"
  }
 },
 "nbformat": 4,
 "nbformat_minor": 2
}
